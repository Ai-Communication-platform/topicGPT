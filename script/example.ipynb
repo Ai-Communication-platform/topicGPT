{
 "cells": [
  {
   "cell_type": "markdown",
   "metadata": {},
   "source": [
    "!pip install -r requirements.txt"
   ]
  },
  {
   "cell_type": "code",
   "execution_count": null,
   "metadata": {},
   "outputs": [],
   "source": [
    "import pandas as pd "
   ]
  },
  {
   "cell_type": "code",
   "execution_count": null,
   "metadata": {},
   "outputs": [],
   "source": [
    "data_file = \"/data/input/bills_subset.jsonl\"\n",
    "data_sample = \"data/input/sample.jsonl\"\n",
    "\n",
    "## Generation I/O\n",
    "generation_prompt = \"prompt/generation_1.txt\"\n",
    "seed_1 = \"prompt/seed_1.md\"\n",
    "generation_out = \"data/output/generation_1.jsonl\"\n",
    "generation_topic = \"data/output/generation_1.md\"\n",
    "\n",
    "## Assignment I/O\n",
    "assignment_prompt = \"prompt/assignment.txt\"\n",
    "assignment_out = \"data/output/assignment.jsonl\"\n",
    "\n",
    "## Correction I/O\n",
    "correction_prompt = \"prompt/correction.txt\"\n",
    "correction_out = \"data/output/assignment_corrected.jsonl\""
   ]
  },
  {
   "cell_type": "code",
   "execution_count": null,
   "metadata": {
    "vscode": {
     "languageId": "shellscript"
    }
   },
   "outputs": [],
   "source": [
    "# Description: Example of how to run the generation script\n",
    "%run generation_1.py --deployment_name gpt-4 \\\n",
    "                    --max_tokens 300 --temperature 0.0 --top_p 0.0 \\\n",
    "                    --data $data_sample \\\n",
    "                    --prompt_file $generation_prompt \\\n",
    "                    --seed_file $seed_1 \\\n",
    "                    --out_file $generation_out \\\n",
    "                    --topic_file $generation_topic \\\n",
    "                    --verbose True"
   ]
  },
  {
   "cell_type": "code",
   "execution_count": null,
   "metadata": {
    "vscode": {
     "languageId": "shellscript"
    }
   },
   "outputs": [],
   "source": [
    "# Assignment\n",
    "%run assignment.py --deployment_name gpt-3.5-turbo \\\n",
    "                        --max_tokens 300 --temperature 0.0 --top_p 0.0 \\\n",
    "                        --data $data_sample \\\n",
    "                        --prompt_file $assignment_prompt \\\n",
    "                        --topic_file $generation_topic \\\n",
    "                        --out_file $assignment_out \\\n",
    "                        --verbose True"
   ]
  },
  {
   "cell_type": "code",
   "execution_count": null,
   "metadata": {
    "vscode": {
     "languageId": "shellscript"
    }
   },
   "outputs": [],
   "source": [
    "# Self-correction\n",
    "%run script/correction.py --deployment_name gpt-3.5-turbo \\\n",
    "                        --max_tokens 300 --temperature 0.0 --top_p 0.0 \\\n",
    "                        --data $assignment_out \\\n",
    "                        --prompt_file $correction_prompt \\\n",
    "                        --topic_file $generation_topic \\\n",
    "                        --out_file $correction_out \\\n",
    "                        --verbose True"
   ]
  }
 ],
 "metadata": {
  "kernelspec": {
   "display_name": "topicGPT",
   "language": "python",
   "name": "python3"
  },
  "language_info": {
   "codemirror_mode": {
    "name": "ipython",
    "version": 3
   },
   "file_extension": ".py",
   "mimetype": "text/x-python",
   "name": "python",
   "nbconvert_exporter": "python",
   "pygments_lexer": "ipython3",
   "version": "3.11.4"
  }
 },
 "nbformat": 4,
 "nbformat_minor": 2
}
